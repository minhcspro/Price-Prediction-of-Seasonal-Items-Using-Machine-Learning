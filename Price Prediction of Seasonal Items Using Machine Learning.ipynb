{
 "cells": [
  {
   "cell_type": "markdown",
   "metadata": {},
   "source": [
    "import thư viện"
   ]
  },
  {
   "cell_type": "code",
   "execution_count": 26,
   "metadata": {},
   "outputs": [],
   "source": [
    "import numpy as np\n",
    "import pandas as pd\n",
    "import tensorflow as tf"
   ]
  },
  {
   "cell_type": "markdown",
   "metadata": {},
   "source": [
    "đọc dữ liệu"
   ]
  },
  {
   "cell_type": "code",
   "execution_count": 27,
   "metadata": {},
   "outputs": [],
   "source": [
    "# Đọc dữ liệu\n",
    "df = pd.read_csv(\"/Users/quocminh/Desktop/gift_data_train.csv\")"
   ]
  },
  {
   "cell_type": "code",
   "execution_count": 28,
   "metadata": {},
   "outputs": [
    {
     "data": {
      "text/html": [
       "<div>\n",
       "<style scoped>\n",
       "    .dataframe tbody tr th:only-of-type {\n",
       "        vertical-align: middle;\n",
       "    }\n",
       "\n",
       "    .dataframe tbody tr th {\n",
       "        vertical-align: top;\n",
       "    }\n",
       "\n",
       "    .dataframe thead th {\n",
       "        text-align: right;\n",
       "    }\n",
       "</style>\n",
       "<table border=\"1\" class=\"dataframe\">\n",
       "  <thead>\n",
       "    <tr style=\"text-align: right;\">\n",
       "      <th></th>\n",
       "      <th>Unnamed: 0</th>\n",
       "      <th>gift_id</th>\n",
       "      <th>gift_type</th>\n",
       "      <th>gift_category</th>\n",
       "      <th>gift_cluster</th>\n",
       "      <th>lsg_1</th>\n",
       "      <th>lsg_2</th>\n",
       "      <th>lsg_3</th>\n",
       "      <th>lsg_4</th>\n",
       "      <th>lsg_5</th>\n",
       "      <th>lsg_6</th>\n",
       "      <th>is_discounted</th>\n",
       "      <th>price</th>\n",
       "    </tr>\n",
       "  </thead>\n",
       "  <tbody>\n",
       "    <tr>\n",
       "      <th>0</th>\n",
       "      <td>0</td>\n",
       "      <td>11156</td>\n",
       "      <td>61</td>\n",
       "      <td>534</td>\n",
       "      <td>3942</td>\n",
       "      <td>3377</td>\n",
       "      <td>5221</td>\n",
       "      <td>504</td>\n",
       "      <td>1912</td>\n",
       "      <td>10</td>\n",
       "      <td>554</td>\n",
       "      <td>0</td>\n",
       "      <td>175.54</td>\n",
       "    </tr>\n",
       "    <tr>\n",
       "      <th>1</th>\n",
       "      <td>1</td>\n",
       "      <td>11157</td>\n",
       "      <td>61</td>\n",
       "      <td>534</td>\n",
       "      <td>3942</td>\n",
       "      <td>3377</td>\n",
       "      <td>5221</td>\n",
       "      <td>504</td>\n",
       "      <td>1912</td>\n",
       "      <td>10</td>\n",
       "      <td>554</td>\n",
       "      <td>1</td>\n",
       "      <td>95.80</td>\n",
       "    </tr>\n",
       "    <tr>\n",
       "      <th>2</th>\n",
       "      <td>2</td>\n",
       "      <td>15689</td>\n",
       "      <td>584</td>\n",
       "      <td>262</td>\n",
       "      <td>0</td>\n",
       "      <td>5290</td>\n",
       "      <td>1579</td>\n",
       "      <td>3203</td>\n",
       "      <td>1912</td>\n",
       "      <td>9</td>\n",
       "      <td>1578</td>\n",
       "      <td>1</td>\n",
       "      <td>107.35</td>\n",
       "    </tr>\n",
       "    <tr>\n",
       "      <th>3</th>\n",
       "      <td>3</td>\n",
       "      <td>11155</td>\n",
       "      <td>61</td>\n",
       "      <td>534</td>\n",
       "      <td>3942</td>\n",
       "      <td>3377</td>\n",
       "      <td>5221</td>\n",
       "      <td>504</td>\n",
       "      <td>1912</td>\n",
       "      <td>10</td>\n",
       "      <td>554</td>\n",
       "      <td>0</td>\n",
       "      <td>172.90</td>\n",
       "    </tr>\n",
       "    <tr>\n",
       "      <th>4</th>\n",
       "      <td>4</td>\n",
       "      <td>11158</td>\n",
       "      <td>61</td>\n",
       "      <td>534</td>\n",
       "      <td>3942</td>\n",
       "      <td>3377</td>\n",
       "      <td>5221</td>\n",
       "      <td>504</td>\n",
       "      <td>1912</td>\n",
       "      <td>9</td>\n",
       "      <td>554</td>\n",
       "      <td>1</td>\n",
       "      <td>77.72</td>\n",
       "    </tr>\n",
       "    <tr>\n",
       "      <th>...</th>\n",
       "      <td>...</td>\n",
       "      <td>...</td>\n",
       "      <td>...</td>\n",
       "      <td>...</td>\n",
       "      <td>...</td>\n",
       "      <td>...</td>\n",
       "      <td>...</td>\n",
       "      <td>...</td>\n",
       "      <td>...</td>\n",
       "      <td>...</td>\n",
       "      <td>...</td>\n",
       "      <td>...</td>\n",
       "      <td>...</td>\n",
       "    </tr>\n",
       "    <tr>\n",
       "      <th>20273</th>\n",
       "      <td>20273</td>\n",
       "      <td>10352</td>\n",
       "      <td>1262</td>\n",
       "      <td>433</td>\n",
       "      <td>42</td>\n",
       "      <td>1480</td>\n",
       "      <td>6883</td>\n",
       "      <td>3747</td>\n",
       "      <td>1912</td>\n",
       "      <td>10</td>\n",
       "      <td>1899</td>\n",
       "      <td>1</td>\n",
       "      <td>22.02</td>\n",
       "    </tr>\n",
       "    <tr>\n",
       "      <th>20274</th>\n",
       "      <td>20274</td>\n",
       "      <td>10269</td>\n",
       "      <td>105</td>\n",
       "      <td>704</td>\n",
       "      <td>6448</td>\n",
       "      <td>2055</td>\n",
       "      <td>6883</td>\n",
       "      <td>995</td>\n",
       "      <td>1912</td>\n",
       "      <td>10</td>\n",
       "      <td>1899</td>\n",
       "      <td>0</td>\n",
       "      <td>57.68</td>\n",
       "    </tr>\n",
       "    <tr>\n",
       "      <th>20275</th>\n",
       "      <td>20275</td>\n",
       "      <td>5854</td>\n",
       "      <td>1220</td>\n",
       "      <td>526</td>\n",
       "      <td>817</td>\n",
       "      <td>8323</td>\n",
       "      <td>6753</td>\n",
       "      <td>6706</td>\n",
       "      <td>1912</td>\n",
       "      <td>10</td>\n",
       "      <td>1899</td>\n",
       "      <td>0</td>\n",
       "      <td>122.87</td>\n",
       "    </tr>\n",
       "    <tr>\n",
       "      <th>20276</th>\n",
       "      <td>20276</td>\n",
       "      <td>563</td>\n",
       "      <td>509</td>\n",
       "      <td>705</td>\n",
       "      <td>821</td>\n",
       "      <td>2826</td>\n",
       "      <td>4009</td>\n",
       "      <td>2912</td>\n",
       "      <td>1912</td>\n",
       "      <td>10</td>\n",
       "      <td>1451</td>\n",
       "      <td>0</td>\n",
       "      <td>47.14</td>\n",
       "    </tr>\n",
       "    <tr>\n",
       "      <th>20277</th>\n",
       "      <td>20277</td>\n",
       "      <td>9107</td>\n",
       "      <td>682</td>\n",
       "      <td>213</td>\n",
       "      <td>5620</td>\n",
       "      <td>2089</td>\n",
       "      <td>6883</td>\n",
       "      <td>3607</td>\n",
       "      <td>1912</td>\n",
       "      <td>10</td>\n",
       "      <td>822</td>\n",
       "      <td>0</td>\n",
       "      <td>47.68</td>\n",
       "    </tr>\n",
       "  </tbody>\n",
       "</table>\n",
       "<p>20278 rows × 13 columns</p>\n",
       "</div>"
      ],
      "text/plain": [
       "       Unnamed: 0  gift_id  gift_type  gift_category  gift_cluster  lsg_1  \\\n",
       "0               0    11156         61            534          3942   3377   \n",
       "1               1    11157         61            534          3942   3377   \n",
       "2               2    15689        584            262             0   5290   \n",
       "3               3    11155         61            534          3942   3377   \n",
       "4               4    11158         61            534          3942   3377   \n",
       "...           ...      ...        ...            ...           ...    ...   \n",
       "20273       20273    10352       1262            433            42   1480   \n",
       "20274       20274    10269        105            704          6448   2055   \n",
       "20275       20275     5854       1220            526           817   8323   \n",
       "20276       20276      563        509            705           821   2826   \n",
       "20277       20277     9107        682            213          5620   2089   \n",
       "\n",
       "       lsg_2  lsg_3  lsg_4  lsg_5  lsg_6  is_discounted   price  \n",
       "0       5221    504   1912     10    554              0  175.54  \n",
       "1       5221    504   1912     10    554              1   95.80  \n",
       "2       1579   3203   1912      9   1578              1  107.35  \n",
       "3       5221    504   1912     10    554              0  172.90  \n",
       "4       5221    504   1912      9    554              1   77.72  \n",
       "...      ...    ...    ...    ...    ...            ...     ...  \n",
       "20273   6883   3747   1912     10   1899              1   22.02  \n",
       "20274   6883    995   1912     10   1899              0   57.68  \n",
       "20275   6753   6706   1912     10   1899              0  122.87  \n",
       "20276   4009   2912   1912     10   1451              0   47.14  \n",
       "20277   6883   3607   1912     10    822              0   47.68  \n",
       "\n",
       "[20278 rows x 13 columns]"
      ]
     },
     "execution_count": 28,
     "metadata": {},
     "output_type": "execute_result"
    }
   ],
   "source": [
    "df.head(-1)"
   ]
  },
  {
   "cell_type": "code",
   "execution_count": 29,
   "metadata": {},
   "outputs": [],
   "source": [
    "df = df.drop(columns= 'Unnamed: 0')\n",
    "# df1 = df1.drop(columns= 'Unnamed: 0')"
   ]
  },
  {
   "cell_type": "code",
   "execution_count": 30,
   "metadata": {},
   "outputs": [],
   "source": [
    "# Chọn các đặc trưng và nhãn\n",
    "y = df['price']\n",
    "X = df.drop(columns=['price'])"
   ]
  },
  {
   "cell_type": "code",
   "execution_count": 31,
   "metadata": {},
   "outputs": [],
   "source": [
    "# Chia tập dữ liệu thành tập huấn luyện và tập kiểm tra\n",
    "from sklearn.model_selection import train_test_split\n",
    "X_train, X_test, y_train, y_test = train_test_split(X, y, test_size=0.2, random_state=42)"
   ]
  },
  {
   "cell_type": "code",
   "execution_count": 32,
   "metadata": {},
   "outputs": [],
   "source": [
    "# Tiền xử lý dữ liệu: chuẩn hóa dữ liệu\n",
    "from sklearn.preprocessing import StandardScaler\n",
    "scaler = StandardScaler()\n",
    "X_train_scaled = scaler.fit_transform(X_train)\n",
    "X_test_scaled = scaler.transform(X_test)"
   ]
  },
  {
   "cell_type": "code",
   "execution_count": 33,
   "metadata": {},
   "outputs": [
    {
     "data": {
      "text/plain": [
       "array([[ 0.02776273,  1.12172673,  0.5969858 , ...,  0.57408964,\n",
       "         0.90584865,  1.82345277],\n",
       "       [-0.49413035,  1.35289913,  0.92114459, ...,  0.57408964,\n",
       "         0.90584865, -0.54841015],\n",
       "       [ 0.89360204,  1.35289913, -1.51857682, ...,  0.57408964,\n",
       "         1.03907026, -0.54841015],\n",
       "       ...,\n",
       "       [ 0.89388316, -0.64288922,  0.5969858 , ...,  0.57408964,\n",
       "         0.90584865, -0.54841015],\n",
       "       [ 0.38787317, -0.87406161, -0.42240828, ...,  0.14511556,\n",
       "        -1.5995771 , -0.54841015],\n",
       "       [-0.06866029, -0.89461027,  1.33060833, ..., -0.28385852,\n",
       "        -0.74581281, -0.54841015]])"
      ]
     },
     "execution_count": 33,
     "metadata": {},
     "output_type": "execute_result"
    }
   ],
   "source": [
    "X_train_scaled"
   ]
  },
  {
   "cell_type": "code",
   "execution_count": 34,
   "metadata": {},
   "outputs": [],
   "source": [
    "# Khởi tạo và huấn luyện mô hình RandomForestRegressor\n",
    "from sklearn.ensemble import RandomForestRegressor\n",
    "model_RFR = RandomForestRegressor()\n",
    "model_RFR.fit(X_train_scaled, y_train)\n",
    "\n",
    "# Dự đoán giá trên tập kiểm tra\n",
    "y_pred_RF = model_RFR.predict(X_test_scaled)"
   ]
  },
  {
   "cell_type": "code",
   "execution_count": 35,
   "metadata": {},
   "outputs": [
    {
     "name": "stdout",
     "output_type": "stream",
     "text": [
      "Model: RandomForestRegressor\n",
      "MAE: 35.26248441814595\n",
      "RMSE: 118.26484126241745\n",
      "MAPE: 0.5416305526390853\n",
      "R^2: 0.8307818649502021\n"
     ]
    }
   ],
   "source": [
    "from sklearn.metrics import mean_absolute_percentage_error, r2_score, mean_absolute_error, mean_squared_error\n",
    "# Tính MAE\n",
    "mae = mean_absolute_error(y_test, y_pred_RF)\n",
    "print(\"Model: RandomForestRegressor\")\n",
    "# In ra giá trị MAE\n",
    "print(\"MAE:\", mae)\n",
    "# Tính RMSE\n",
    "rmse = np.sqrt(mean_squared_error(y_test, y_pred_RF))\n",
    "print(\"RMSE:\", rmse)\n",
    "# Tính MAPE\n",
    "mape = mean_absolute_percentage_error(y_test, y_pred_RF)\n",
    "# Tính R^2\n",
    "r_squared = r2_score(y_test, y_pred_RF)\n",
    "print(\"MAPE:\", mape)\n",
    "print(\"R^2:\", r_squared)"
   ]
  },
  {
   "cell_type": "code",
   "execution_count": 36,
   "metadata": {},
   "outputs": [],
   "source": [
    "from sklearn.ensemble import GradientBoostingRegressor\n",
    "# Khởi tạo và huấn luyện mô hình GradientBoostingRegressor\n",
    "model = GradientBoostingRegressor()\n",
    "model.fit(X_train_scaled, y_train)\n",
    "\n",
    "# Dự đoán giá trên tập kiểm tra\n",
    "y_pred_GB = model.predict(X_test_scaled)"
   ]
  },
  {
   "cell_type": "code",
   "execution_count": 37,
   "metadata": {},
   "outputs": [
    {
     "name": "stdout",
     "output_type": "stream",
     "text": [
      "Model: GradientBoostingRegressor:\n",
      "MAE: 57.19937394070684\n",
      "RMSE: 140.63725246396655\n",
      "MAPE: 0.954468312480911\n",
      "R^2: 0.7607035011131132\n"
     ]
    }
   ],
   "source": [
    "from sklearn.metrics import mean_absolute_percentage_error, r2_score, mean_absolute_error, mean_squared_error\n",
    "# Tính MAE\n",
    "print(\"Model: GradientBoostingRegressor:\")\n",
    "mae = mean_absolute_error(y_test, y_pred_GB)\n",
    "# In ra giá trị MAE\n",
    "print(\"MAE:\", mae)\n",
    "# Tính RMSE\n",
    "rmse = np.sqrt(mean_squared_error(y_test, y_pred_GB))\n",
    "print(\"RMSE:\", rmse)\n",
    "# Tính MAPE\n",
    "mape = mean_absolute_percentage_error(y_test, y_pred_GB)\n",
    "# Tính R^2\n",
    "r_squared = r2_score(y_test, y_pred_GB)\n",
    "print(\"MAPE:\", mape)\n",
    "print(\"R^2:\", r_squared)"
   ]
  },
  {
   "cell_type": "code",
   "execution_count": 38,
   "metadata": {},
   "outputs": [],
   "source": [
    "from sklearn.linear_model import Ridge\n",
    "from sklearn.metrics import mean_squared_error\n",
    "\n",
    "# Khởi tạo và huấn luyện mô hình Ridge Regression\n",
    "ridge_model = Ridge()\n",
    "ridge_model.fit(X_train_scaled, y_train)\n",
    "\n",
    "# Dự đoán giá trên tập kiểm tra\n",
    "y_pred_RR = ridge_model.predict(X_test_scaled)"
   ]
  },
  {
   "cell_type": "code",
   "execution_count": 39,
   "metadata": {},
   "outputs": [
    {
     "name": "stdout",
     "output_type": "stream",
     "text": [
      "Model: Ridge Regression\n",
      "MAE: 114.14772098641633\n",
      "RMSE: 229.24202707869657\n",
      "MAPE: 1.916443427192564\n",
      "R^2: 0.364194796214408\n"
     ]
    }
   ],
   "source": [
    "from sklearn.metrics import mean_absolute_percentage_error, r2_score, mean_absolute_error, mean_squared_error\n",
    "# Tính MAE\n",
    "print(\"Model: Ridge Regression\")\n",
    "mae = mean_absolute_error(y_test, y_pred_RR)\n",
    "# In ra giá trị MAE\n",
    "print(\"MAE:\", mae)\n",
    "# Tính RMSE\n",
    "rmse = np.sqrt(mean_squared_error(y_test, y_pred_RR))\n",
    "print(\"RMSE:\", rmse)\n",
    "# Tính MAPE\n",
    "mape = mean_absolute_percentage_error(y_test, y_pred_RR)\n",
    "# Tính R^2\n",
    "r_squared = r2_score(y_test, y_pred_RR)\n",
    "print(\"MAPE:\", mape)\n",
    "print(\"R^2:\", r_squared)"
   ]
  },
  {
   "cell_type": "code",
   "execution_count": 40,
   "metadata": {},
   "outputs": [],
   "source": [
    "from sklearn.svm import SVR\n",
    "from sklearn.metrics import mean_squared_error\n",
    "\n",
    "# Khởi tạo và huấn luyện mô hình Support Vector Regression\n",
    "svr_model = SVR()\n",
    "svr_model.fit(X_train_scaled, y_train)\n",
    "\n",
    "# Dự đoán giá trên tập kiểm tra\n",
    "y_pred_SVR = svr_model.predict(X_test_scaled)\n"
   ]
  },
  {
   "cell_type": "code",
   "execution_count": 41,
   "metadata": {},
   "outputs": [
    {
     "name": "stdout",
     "output_type": "stream",
     "text": [
      "Model: Support Vector Regression\n",
      "MAE: 83.7377407379863\n",
      "RMSE: 250.4174153807554\n",
      "MAPE: 0.7781480895162542\n",
      "R^2: 0.24130948344211844\n"
     ]
    }
   ],
   "source": [
    "from sklearn.metrics import mean_absolute_percentage_error, r2_score, mean_absolute_error, mean_squared_error\n",
    "# Tính MAE\n",
    "mae = mean_absolute_error(y_test, y_pred_SVR)\n",
    "print(\"Model: Support Vector Regression\")\n",
    "# In ra giá trị MAE\n",
    "print(\"MAE:\", mae)\n",
    "# Tính RMSE\n",
    "rmse = np.sqrt(mean_squared_error(y_test, y_pred_SVR))\n",
    "print(\"RMSE:\", rmse)\n",
    "# Tính MAPE\n",
    "mape = mean_absolute_percentage_error(y_test, y_pred_SVR)\n",
    "# Tính R^2\n",
    "r_squared = r2_score(y_test, y_pred_SVR)\n",
    "print(\"MAPE:\", mape)\n",
    "print(\"R^2:\", r_squared)"
   ]
  },
  {
   "cell_type": "code",
   "execution_count": 42,
   "metadata": {},
   "outputs": [
    {
     "name": "stderr",
     "output_type": "stream",
     "text": [
      "/Users/quocminh/miniconda3/lib/python3.11/site-packages/statsmodels/tsa/base/tsa_model.py:473: ValueWarning: An unsupported index was provided and will be ignored when e.g. forecasting.\n",
      "  self._init_dates(dates, freq)\n",
      "/Users/quocminh/miniconda3/lib/python3.11/site-packages/statsmodels/tsa/base/tsa_model.py:473: ValueWarning: An unsupported index was provided and will be ignored when e.g. forecasting.\n",
      "  self._init_dates(dates, freq)\n",
      "/Users/quocminh/miniconda3/lib/python3.11/site-packages/statsmodels/tsa/base/tsa_model.py:473: ValueWarning: An unsupported index was provided and will be ignored when e.g. forecasting.\n",
      "  self._init_dates(dates, freq)\n",
      "/Users/quocminh/miniconda3/lib/python3.11/site-packages/statsmodels/tsa/statespace/sarimax.py:978: UserWarning: Non-invertible starting MA parameters found. Using zeros as starting parameters.\n",
      "  warn('Non-invertible starting MA parameters found.'\n"
     ]
    },
    {
     "name": "stdout",
     "output_type": "stream",
     "text": [
      "Mean Squared Error: 84286.71130953296\n"
     ]
    },
    {
     "name": "stderr",
     "output_type": "stream",
     "text": [
      "/Users/quocminh/miniconda3/lib/python3.11/site-packages/statsmodels/tsa/base/tsa_model.py:836: ValueWarning: No supported index is available. Prediction results will be given with an integer index beginning at `start`.\n",
      "  return get_prediction_index(\n",
      "/Users/quocminh/miniconda3/lib/python3.11/site-packages/statsmodels/tsa/base/tsa_model.py:836: FutureWarning: No supported index is available. In the next version, calling this method in a model without a supported index will result in an exception.\n",
      "  return get_prediction_index(\n"
     ]
    }
   ],
   "source": [
    "from statsmodels.tsa.arima.model import ARIMA\n",
    "from sklearn.metrics import mean_squared_error\n",
    "\n",
    "# Khởi tạo và huấn luyện mô hình ARIMA\n",
    "arima_model = ARIMA(y_train, order=(2, 2, 2))  # Thay (p, d, q) bằng các giá trị phù hợp\n",
    "arima_fit = arima_model.fit()\n",
    "\n",
    "# Dự đoán giá trên tập kiểm tra\n",
    "y_pred = arima_fit.forecast(steps=len(y_test))\n",
    "\n",
    "# Tính Mean Squared Error\n",
    "mse = mean_squared_error(y_test, y_pred)\n",
    "print(\"Mean Squared Error:\", mse)\n"
   ]
  },
  {
   "cell_type": "code",
   "execution_count": 43,
   "metadata": {},
   "outputs": [
    {
     "name": "stdout",
     "output_type": "stream",
     "text": [
      "Model: ARIMA\n",
      "MAE: 151.28115167466592\n",
      "RMSE: 290.3217375766633\n",
      "MAPE: 2.9168768242984977\n",
      "R^2: -0.019752331382321797\n"
     ]
    }
   ],
   "source": [
    "from sklearn.metrics import mean_absolute_percentage_error, r2_score, mean_absolute_error, mean_squared_error\n",
    "# Tính MAE\n",
    "print(\"Model: ARIMA\")\n",
    "mae = mean_absolute_error(y_test, y_pred)\n",
    "# In ra giá trị MAE\n",
    "print(\"MAE:\", mae)\n",
    "# Tính RMSE\n",
    "rmse = np.sqrt(mean_squared_error(y_test, y_pred))\n",
    "print(\"RMSE:\", rmse)\n",
    "# Tính MAPE\n",
    "mape = mean_absolute_percentage_error(y_test, y_pred)\n",
    "# Tính R^2\n",
    "r_squared = r2_score(y_test, y_pred)\n",
    "print(\"MAPE:\", mape)\n",
    "print(\"R^2:\", r_squared)"
   ]
  },
  {
   "cell_type": "code",
   "execution_count": 48,
   "metadata": {},
   "outputs": [
    {
     "name": "stdout",
     "output_type": "stream",
     "text": [
      "Predicted Price for New Gift: 923.2572000000005\n"
     ]
    }
   ],
   "source": [
    "# Dự đoán giá của một món quà mới\n",
    "new_gift = [[2372, 842, 663, 24, 203, 1334, 4358, 1912, 10, 1899, 0]]  # gift_type, gift_category, volumes, is_discounted\n",
    "predicted_price = model_RFR.predict(new_gift)\n",
    "print('Predicted Price for New Gift:', predicted_price[0])"
   ]
  }
 ],
 "metadata": {
  "kernelspec": {
   "display_name": "base",
   "language": "python",
   "name": "python3"
  },
  "language_info": {
   "codemirror_mode": {
    "name": "ipython",
    "version": 3
   },
   "file_extension": ".py",
   "mimetype": "text/x-python",
   "name": "python",
   "nbconvert_exporter": "python",
   "pygments_lexer": "ipython3",
   "version": "3.11.5"
  }
 },
 "nbformat": 4,
 "nbformat_minor": 2
}
